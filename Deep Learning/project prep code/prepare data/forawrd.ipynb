{
 "cells": [
  {
   "cell_type": "markdown",
   "metadata": {},
   "source": [
    "Input layer is determined by input data, the identity matrix\n"
   ]
  },
  {
   "cell_type": "code",
   "execution_count": 27,
   "metadata": {},
   "outputs": [],
   "source": [
    "import torch\n",
    "import torchvision\n",
    "import torchvision.transforms as transforms\n",
    "import torch.nn as nn\n",
    "\n",
    "import torch.nn.functional as F\n",
    "\n",
    "torch.set_grad_enabled(False)\n",
    "\n",
    "torch.set_printoptions(linewidth=120)"
   ]
  },
  {
   "cell_type": "code",
   "execution_count": 28,
   "metadata": {},
   "outputs": [],
   "source": [
    "class Network(nn.Module):\n",
    "    def __init__(self):\n",
    "        super(Network,self).__init__()\n",
    "        self.conv1 = nn.Conv2d(in_channels=1,out_channels=6,kernel_size=5)\n",
    "        self.conv2 = nn.Conv2d(in_channels=6,out_channels=12,kernel_size=5)\n",
    "\n",
    "        self.fc1 = nn.Linear(in_features=12*4*4, out_features=120) \n",
    "        self.fc2 = nn.Linear(in_features=120, out_features=60)\n",
    "        self.out = nn.Linear(in_features=60, out_features=10)#Fully connected/linear layer\n",
    "\n",
    "\n",
    "    def forward(self,t):\n",
    "        #1 input layer\n",
    "        t=t\n",
    "\n",
    "        #2 hidden convolutional layer\n",
    "        t = self.conv1(t)\n",
    "        t = F.relu(t)\n",
    "        t = F.max_pool2d(t, kernel_size=2,stride = 2)\n",
    "\n",
    "        # 3 hidden conv layer 2, comprised of collection of weights and operations\n",
    "        # Weights are stored in neural network modular layer class instance\n",
    "        t = self.conv2(t)\n",
    "        t = F.relu(t) #pure operation, no Weights, activation\n",
    "        t = F.max_pool2d(t, kernel_size=2,stride = 2) #pure operation, no Weights\n",
    "\n",
    "        # 4 Linear Layer\n",
    "        t = t.reshape(-1,12*4*4) #4 by 4 is the height and width \n",
    "        t = self.fc1(t)\n",
    "        t = F.relu(t)\n",
    "\n",
    "        # 5 Linear layer\n",
    "        t = self.fc2(t)\n",
    "        t = F.relu(t)\n",
    "\n",
    "        # 6 Linear Layer\n",
    "        t = self.out(t)\n",
    "        #t = F.softmax(t,dim=1)\n",
    "\n",
    "        return t"
   ]
  },
  {
   "cell_type": "code",
   "execution_count": 29,
   "metadata": {},
   "outputs": [],
   "source": [
    "train_set = torchvision.datasets.FashionMNIST(\n",
    "    root ='./data/FashionMNIST'\n",
    "    ,train=True\n",
    "    ,download=True\n",
    "    ,transform=transforms.Compose([transforms.ToTensor()\n",
    "    ])\n",
    ")"
   ]
  },
  {
   "cell_type": "code",
   "execution_count": 30,
   "metadata": {},
   "outputs": [],
   "source": [
    "network = Network()"
   ]
  },
  {
   "cell_type": "code",
   "execution_count": 33,
   "metadata": {},
   "outputs": [
    {
     "name": "stdout",
     "output_type": "stream",
     "text": [
      "torch.Size([1, 10])\n",
      "tensor([[0.1080, 0.1106, 0.0945, 0.0882, 0.1132, 0.1108, 0.1084, 0.0868, 0.0927, 0.0868]])\n",
      "tensor([4])\n",
      "9\n",
      "Model predicts coat (4) whilst the image is an ankle boot (9)\n"
     ]
    }
   ],
   "source": [
    "#Single sample prediction\n",
    "\n",
    "sample = next(iter(train_set))\n",
    "image, label = sample\n",
    "image.unsqueeze(0).shape\n",
    "pred = network(image.unsqueeze(0))\n",
    "print(pred.shape) #1 image and10 prediction classes each has a value\n",
    "#print(pred)\n",
    "print(F.softmax(pred,dim=1)) #most predictions came in at around 10%\n",
    "print(pred.argmax(dim=1))\n",
    "print(label) \n",
    "print(\"Model predicts coat (4) whilst the image is an ankle boot (9)\")"
   ]
  },
  {
   "cell_type": "code",
   "execution_count": 37,
   "metadata": {},
   "outputs": [
    {
     "name": "stdout",
     "output_type": "stream",
     "text": [
      "tensor([4, 4, 4, 4, 4, 1, 4, 4, 4, 4])\n",
      "tensor([9, 0, 0, 3, 0, 2, 7, 2, 5, 5])\n",
      "tensor([False, False, False, False, False, False, False, False, False, False])\n"
     ]
    }
   ],
   "source": [
    "#Batch sample prediction\n",
    "\n",
    "data_loader = torch.utils.data.DataLoader(train_set, batch_size=10)\n",
    "batch = next(iter(data_loader))\n",
    "images, labels = batch\n",
    "preds = network(images)\n",
    "print(preds.argmax(dim=1))\n",
    "print(labels)\n",
    "print(preds.argmax(dim=1).eq(labels))\n"
   ]
  }
 ],
 "metadata": {
  "interpreter": {
   "hash": "07efdcd4b820c98a756949507a4d29d7862823915ec7477944641bea022f4f62"
  },
  "kernelspec": {
   "display_name": "Python 3.9.7 ('base')",
   "language": "python",
   "name": "python3"
  },
  "language_info": {
   "codemirror_mode": {
    "name": "ipython",
    "version": 3
   },
   "file_extension": ".py",
   "mimetype": "text/x-python",
   "name": "python",
   "nbconvert_exporter": "python",
   "pygments_lexer": "ipython3",
   "version": "3.9.7"
  },
  "orig_nbformat": 4
 },
 "nbformat": 4,
 "nbformat_minor": 2
}
